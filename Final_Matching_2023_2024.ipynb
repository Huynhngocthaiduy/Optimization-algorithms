{
  "cells": [
    {
      "cell_type": "markdown",
      "id": "57b886ce",
      "metadata": {
        "id": "57b886ce"
      },
      "source": [
        "# HUYNH Ngoc Thai Duy (Valdom)"
      ]
    },
    {
      "cell_type": "markdown",
      "id": "01374815",
      "metadata": {
        "id": "01374815"
      },
      "source": [
        "Complete the following box to setup your configuration"
      ]
    },
    {
      "cell_type": "code",
      "execution_count": null,
      "id": "5c408b8f",
      "metadata": {
        "id": "5c408b8f",
        "outputId": "37ca2072-41df-4f85-d745-b49da5c60a52"
      },
      "outputs": [
        {
          "name": "stderr",
          "output_type": "stream",
          "text": [
            "/home/nhuynh/.local/lib/python3.11/site-packages/docplex/cp/__init__.py:62: RuntimeWarning: docplex.cp is supported by Python versions 2.7.9+, 3.4.x, to 3.10.x, not '3.11.3.final.0'. Use it at your own risk.\n",
            "  warnings.warn(msg, RuntimeWarning)\n"
          ]
        }
      ],
      "source": [
        "from docplex.cp.model import *\n",
        "context.solver.agent = 'local'\n",
        "#context.solver.local.execfile = 'Path to the binary cpoptimizer' --> At INSA we use the following:\n",
        "context.solver.local.execfile = '/usr/local/insa/ibm_cplex_studio_2211/cpoptimizer/bin/x86-64_linux/cpoptimizer'\n",
        "context.verbose = 0\n",
        "\n",
        "\n",
        "\n",
        "#The solver's documentation is here\n",
        "#https://ibmdecisionoptimization.github.io/docplex-doc/cp/index.html"
      ]
    },
    {
      "cell_type": "markdown",
      "id": "0fa3d905",
      "metadata": {
        "id": "0fa3d905"
      },
      "source": [
        "Please use the following parameters each time you call the solver"
      ]
    },
    {
      "cell_type": "code",
      "execution_count": null,
      "id": "5ba70094",
      "metadata": {
        "id": "5ba70094"
      },
      "outputs": [],
      "source": [
        "myparams = CpoParameters(TimeLimit= 20,\n",
        "                            LogVerbosity=\"Quiet\" ,\n",
        "                             SearchType = 'DepthFirst',\n",
        "                             Presolve = 'Off',\n",
        "                             Workers=  1,\n",
        "                             RandomSeed = 2)"
      ]
    },
    {
      "cell_type": "markdown",
      "id": "8a8a4030",
      "metadata": {
        "id": "8a8a4030"
      },
      "source": [
        "You can add as many cells as you want. Make sure to choose \"Markdown\" instead of \"code\" if you want to write in a natural language.\n",
        "\n",
        "When submitting your work, please re-execute the notebook from the start and do not remove the output."
      ]
    },
    {
      "cell_type": "markdown",
      "id": "6750d8f4",
      "metadata": {
        "id": "6750d8f4"
      },
      "source": [
        "We want to set up a speed interview event between $n$ students and $n$ companies. Each student has a unique list that reflects his preferences towards companies. The first element is the most prefered company, the second one is the second most prefered, etc. For instance, if Alice's list of preferences is [4,1,3,2]. Then she prefers to be assigned to  company 4, then 1, then 3, then 2. Similarly, each company has a list of preferences towards students. The preferences represent a strict order (i.e., no ties).\n",
        "\n",
        "A matching $M$ is a one-to-one mapping from students to companies. Let $s$ be a student and $c$ be a company. The pair $(s,c)$ is unhappy in $M$ if they prefer to be together compared to their situation in $M$. That is, if $M[s] =c' $ and $ s' = M^{-1}[c]$ then $s$ prefers c than $c'$, and $c$ prefers $s$ than $s'$.\n",
        "\n",
        "\n",
        "The stable interview problem is the problem of finding a matching that has no unhappy pair."
      ]
    },
    {
      "cell_type": "markdown",
      "id": "23521581",
      "metadata": {
        "id": "23521581"
      },
      "source": [
        "# Example"
      ]
    },
    {
      "cell_type": "markdown",
      "id": "4849c7b4",
      "metadata": {
        "id": "4849c7b4"
      },
      "source": [
        "The following code generates a random list of preferences"
      ]
    },
    {
      "cell_type": "code",
      "execution_count": null,
      "id": "59fa9dcb",
      "metadata": {
        "id": "59fa9dcb"
      },
      "outputs": [],
      "source": [
        "import numpy as np\n",
        "import random\n",
        "\n",
        "#Run The model\n",
        "# Example data\n",
        "def generate_random_list(n) :\n",
        "    my_list = [i for i in range (n)]\n",
        "    return random.sample(my_list, len(my_list))"
      ]
    },
    {
      "cell_type": "markdown",
      "id": "bf9286d0",
      "metadata": {
        "id": "bf9286d0"
      },
      "source": [
        "To generate a random instance of the speed interview problem, we use the following function"
      ]
    },
    {
      "cell_type": "code",
      "execution_count": null,
      "id": "f13378b1",
      "metadata": {
        "id": "f13378b1"
      },
      "outputs": [],
      "source": [
        "#Gererate an instance of size $6$\n",
        "def generate_random_instance(n) :\n",
        "\n",
        "    s = [generate_random_list(n) for i in range(n)]\n",
        "    c = [generate_random_list(n) for i in range(n)]\n",
        "    return s, c\n"
      ]
    },
    {
      "cell_type": "markdown",
      "id": "bbba980c",
      "metadata": {
        "id": "bbba980c"
      },
      "source": [
        "Generate a random instance of size 4"
      ]
    },
    {
      "cell_type": "code",
      "execution_count": null,
      "id": "cd1e08e0",
      "metadata": {
        "id": "cd1e08e0",
        "outputId": "8fe04a53-5bfa-4c91-fbda-2f7811aee0d7"
      },
      "outputs": [
        {
          "name": "stdout",
          "output_type": "stream",
          "text": [
            "\n",
            "students_preferences:\n",
            "[[1 2 0 3]\n",
            " [3 2 0 1]\n",
            " [3 0 1 2]\n",
            " [3 0 2 1]]\n",
            "\n",
            "companies_preferences Preferences:\n",
            "[[2 3 0 1]\n",
            " [0 1 3 2]\n",
            " [2 3 1 0]\n",
            " [1 2 3 0]]\n"
          ]
        }
      ],
      "source": [
        "#Example with n= 6\n",
        "n=4\n",
        "students_preferences, companies_preferences = generate_random_instance(n)\n",
        "\n",
        "print(\"\\nstudents_preferences:\")\n",
        "print(np.matrix(students_preferences))\n",
        "\n",
        "print(\"\\ncompanies_preferences Preferences:\")\n",
        "print(np.matrix(companies_preferences))\n"
      ]
    },
    {
      "cell_type": "markdown",
      "id": "65d403c7",
      "metadata": {
        "id": "65d403c7"
      },
      "source": [
        "\n",
        "\n",
        "Complete the following function to model the stable interview problem. Do not call the solver to search for solutions in this function. We will do it saperately later.\n",
        "\n",
        "\n",
        "You can use the element expression if you want (but it is not mandatory) :  https://ibmdecisionoptimization.github.io/docplex-doc/cp/docplex.cp.modeler.py.html?highlight=element#docplex.cp.modeler.element"
      ]
    },
    {
      "cell_type": "markdown",
      "id": "5f8084ba",
      "metadata": {
        "id": "5f8084ba"
      },
      "source": [
        "Firstly, we describe the CP model for SM for finding a complete matching. The model uses a variable $m_i$ for each student $x_i \\in S$, and $w_j$ for each company $y_j \\in C$. For each variable $m_i$,\n",
        "\n",
        "$$\\text{domain}(m_i) = \\{j : y_j \\text{ is acceptable to } x_i\\}.$$\n",
        "\n",
        "For each $w_j$, $\\text{domain}(w_j)$ is defined similarly.\n",
        "\n",
        "For every pair $(x_i, y_j)$ of a student $x_i \\in S$ and a company $y_j \\in C$ that are acceptable to each other, the CP model includes the following constraints:\n",
        "\n",
        "- $\\neg(w_j = i' \\land m_i = j)$ $(x_{i'} \\in S, i \\neq i', x_{i'} \\text{ is acceptable to } y_j)$,\n",
        "- $\\neg(m_i = j' \\land w_j = i)$ $(y_{j'} \\in C, j \\neq j', y_{j'} \\text{ is acceptable to } x_i)$,\n",
        "- $\\neg(w_j = i' \\land m_i = j')$ $(x_{i'} \\in S, y_{j'} \\in C, \\text{mrank}(x_i, y_j) < \\text{mrank}(x_i, y_{j'}), \\text{wrank}(y_j, x_i) < \\text{wrank}(y_j, x_{i'}))$.\n",
        "\n",
        "The first constraint above guarantees that a company $y$ is matched to exactly one student. The second constraint guarantees that a student $x$ is matched to exactly one company. The third constraint guarantees that there is no pair $(x, y) \\in S \\times C$ such that $x$ is matched to a company $y'$ and $y$ is matched to a student $x'$ where $x$ and $y$ prefer each other to their current partners. In this way, the CP model ensures that there are no blocking pairs, hence the stability of the matching.\n",
        "\n",
        "[Reference](https://research.sabanciuniv.edu/id/eprint/47475/1/10491715.pdf)\n",
        "\n",
        "SOLVING HARD STABLE MARRIAGE PROBLEMS USING LOGIC-BASED METHODS\n",
        "\n",
        "SELİN EYÜPOĞLU\n",
        "\n",
        "Computer Science and Engineering M.Sc. Thesis, July 2022\n",
        "\n",
        "Thesis Supervisor: Prof. Dr. Esra Erd\n"
      ]
    },
    {
      "cell_type": "code",
      "execution_count": null,
      "id": "91bb23c0",
      "metadata": {
        "id": "91bb23c0"
      },
      "outputs": [],
      "source": [
        "def stable_interview (n, students_preferences, companies_preferences):\n",
        "    model = CpoModel(name='Student-Company Matching Problem')\n",
        "\n",
        "    # Variables: Matching of students to companies and vice versa\n",
        "    match_students = [model.integer_var(min=0, max=n-1, name=f\"match_students_{i}\") for i in range(n)]\n",
        "    match_companies = [model.integer_var(min=0, max=n-1, name=f\"match_companies_{j}\") for j in range(n)]\n",
        "\n",
        "    # Ensuring mutual matching\n",
        "    for i in range(n):\n",
        "        for j in range(n):\n",
        "            model.add(model.if_then(match_students[i] == j, match_companies[j] == i))\n",
        "    # Stable condition\n",
        "    for s1 in range(n):  # For each student\n",
        "        for c1 in range(n):  # For each company\n",
        "            for s2 in range(n):  # Compare with every other student\n",
        "                for c2 in range(n):  # And every other company\n",
        "                    if s1 != s2 and c1 != c2:\n",
        "                        pref_s1_c2 = students_preferences[s1].index(c2)  # s1's preference rank for c2\n",
        "                        pref_s1_c1 = students_preferences[s1].index(c1)  # s1's preference rank for c1\n",
        "                        pref_c2_s1 = companies_preferences[c2].index(s1)  # c2's preference rank for s1\n",
        "                        pref_c2_s2 = companies_preferences[c2].index(s2)  # c2's preference rank for s2\n",
        "                        condition = model.logical_and(pref_s1_c2 < pref_s1_c1, pref_c2_s1 < pref_c2_s2)\n",
        "\n",
        "                        model.add(model.if_then(condition,\n",
        "                                                model.logical_not(model.logical_and(match_students[s1] == c1,\n",
        "                                                                                    match_students[s2] == c2))))\n",
        "\n",
        "    return model"
      ]
    },
    {
      "cell_type": "markdown",
      "id": "5610473b",
      "metadata": {
        "id": "5610473b"
      },
      "source": [
        "Test your function on an instance of size n= 10. Ask the solver to generate only one solution"
      ]
    },
    {
      "cell_type": "code",
      "execution_count": null,
      "id": "f2efa181",
      "metadata": {
        "id": "f2efa181",
        "outputId": "3ee2736f-c694-4fb0-a2b3-1365fd2cec88"
      },
      "outputs": [
        {
          "name": "stdout",
          "output_type": "stream",
          "text": [
            "Expression: (match_students_0 == 0) => (match_companies_0 == 0)\n",
            "Expression: (match_students_0 == 1) => (match_companies_1 == 0)\n",
            "Expression: (match_students_0 == 2) => (match_companies_2 == 0)\n",
            "Expression: (match_students_0 == 3) => (match_companies_3 == 0)\n",
            "Expression: (match_students_0 == 4) => (match_companies_4 == 0)\n",
            "Expression: (match_students_1 == 0) => (match_companies_0 == 1)\n",
            "Expression: (match_students_1 == 1) => (match_companies_1 == 1)\n",
            "Expression: (match_students_1 == 2) => (match_companies_2 == 1)\n",
            "Expression: (match_students_1 == 3) => (match_companies_3 == 1)\n",
            "Expression: (match_students_1 == 4) => (match_companies_4 == 1)\n",
            "Expression: (match_students_2 == 0) => (match_companies_0 == 2)\n",
            "Expression: (match_students_2 == 1) => (match_companies_1 == 2)\n",
            "Expression: (match_students_2 == 2) => (match_companies_2 == 2)\n",
            "Expression: (match_students_2 == 3) => (match_companies_3 == 2)\n",
            "Expression: (match_students_2 == 4) => (match_companies_4 == 2)\n",
            "Expression: (match_students_3 == 0) => (match_companies_0 == 3)\n",
            "Expression: (match_students_3 == 1) => (match_companies_1 == 3)\n",
            "Expression: (match_students_3 == 2) => (match_companies_2 == 3)\n",
            "Expression: (match_students_3 == 3) => (match_companies_3 == 3)\n",
            "Expression: (match_students_3 == 4) => (match_companies_4 == 3)\n",
            "Expression: (match_students_4 == 0) => (match_companies_0 == 4)\n",
            "Expression: (match_students_4 == 1) => (match_companies_1 == 4)\n",
            "Expression: (match_students_4 == 2) => (match_companies_2 == 4)\n",
            "Expression: (match_students_4 == 3) => (match_companies_3 == 4)\n",
            "Expression: (match_students_4 == 4) => (match_companies_4 == 4)\n",
            "Expression: (false() && true()) => !((match_students_0 == 0) && (match_students_1 == 1))\n",
            "Expression: (false() && true()) => !((match_students_0 == 0) && (match_students_1 == 2))\n",
            "Expression: (false() && true()) => !((match_students_0 == 0) && (match_students_1 == 3))\n",
            "Expression: (false() && false()) => !((match_students_0 == 0) && (match_students_1 == 4))\n",
            "Expression: (false() && false()) => !((match_students_0 == 0) && (match_students_2 == 1))\n",
            "Expression: (false() && false()) => !((match_students_0 == 0) && (match_students_2 == 2))\n",
            "Expression: (false() && true()) => !((match_students_0 == 0) && (match_students_2 == 3))\n",
            "Expression: (false() && false()) => !((match_students_0 == 0) && (match_students_2 == 4))\n",
            "Expression: (false() && false()) => !((match_students_0 == 0) && (match_students_3 == 1))\n",
            "Expression: (false() && false()) => !((match_students_0 == 0) && (match_students_3 == 2))\n",
            "Expression: (false() && true()) => !((match_students_0 == 0) && (match_students_3 == 3))\n",
            "Expression: (false() && false()) => !((match_students_0 == 0) && (match_students_3 == 4))\n",
            "Expression: (false() && true()) => !((match_students_0 == 0) && (match_students_4 == 1))\n",
            "Expression: (false() && false()) => !((match_students_0 == 0) && (match_students_4 == 2))\n",
            "Expression: (false() && true()) => !((match_students_0 == 0) && (match_students_4 == 3))\n",
            "Expression: (false() && false()) => !((match_students_0 == 0) && (match_students_4 == 4))\n",
            "Expression: (true() && false()) => !((match_students_0 == 1) && (match_students_1 == 0))\n",
            "Expression: (true() && true()) => !((match_students_0 == 1) && (match_students_1 == 2))\n",
            "Expression: (true() && true()) => !((match_students_0 == 1) && (match_students_1 == 3))\n",
            "Expression: (false() && false()) => !((match_students_0 == 1) && (match_students_1 == 4))\n",
            "Expression: (true() && false()) => !((match_students_0 == 1) && (match_students_2 == 0))\n",
            "Expression: (true() && false()) => !((match_students_0 == 1) && (match_students_2 == 2))\n",
            "Expression: (true() && true()) => !((match_students_0 == 1) && (match_students_2 == 3))\n",
            "Expression: (false() && false()) => !((match_students_0 == 1) && (match_students_2 == 4))\n",
            "Expression: (true() && true()) => !((match_students_0 == 1) && (match_students_3 == 0))\n",
            "Expression: (true() && false()) => !((match_students_0 == 1) && (match_students_3 == 2))\n",
            "Expression: (true() && true()) => !((match_students_0 == 1) && (match_students_3 == 3))\n",
            "Expression: (false() && false()) => !((match_students_0 == 1) && (match_students_3 == 4))\n",
            "Expression: (true() && false()) => !((match_students_0 == 1) && (match_students_4 == 0))\n",
            "Expression: (true() && false()) => !((match_students_0 == 1) && (match_students_4 == 2))\n",
            "Expression: (true() && true()) => !((match_students_0 == 1) && (match_students_4 == 3))\n",
            "Expression: (false() && false()) => !((match_students_0 == 1) && (match_students_4 == 4))\n",
            "Expression: (true() && false()) => !((match_students_0 == 2) && (match_students_1 == 0))\n",
            "Expression: (false() && true()) => !((match_students_0 == 2) && (match_students_1 == 1))\n",
            "Expression: (false() && true()) => !((match_students_0 == 2) && (match_students_1 == 3))\n",
            "Expression: (false() && false()) => !((match_students_0 == 2) && (match_students_1 == 4))\n",
            "Expression: (true() && false()) => !((match_students_0 == 2) && (match_students_2 == 0))\n",
            "Expression: (false() && false()) => !((match_students_0 == 2) && (match_students_2 == 1))\n",
            "Expression: (false() && true()) => !((match_students_0 == 2) && (match_students_2 == 3))\n",
            "Expression: (false() && false()) => !((match_students_0 == 2) && (match_students_2 == 4))\n",
            "Expression: (true() && true()) => !((match_students_0 == 2) && (match_students_3 == 0))\n",
            "Expression: (false() && false()) => !((match_students_0 == 2) && (match_students_3 == 1))\n",
            "Expression: (false() && true()) => !((match_students_0 == 2) && (match_students_3 == 3))\n",
            "Expression: (false() && false()) => !((match_students_0 == 2) && (match_students_3 == 4))\n",
            "Expression: (true() && false()) => !((match_students_0 == 2) && (match_students_4 == 0))\n",
            "Expression: (false() && true()) => !((match_students_0 == 2) && (match_students_4 == 1))\n",
            "Expression: (false() && true()) => !((match_students_0 == 2) && (match_students_4 == 3))\n",
            "Expression: (false() && false()) => !((match_students_0 == 2) && (match_students_4 == 4))\n",
            "Expression: (true() && false()) => !((match_students_0 == 3) && (match_students_1 == 0))\n",
            "Expression: (false() && true()) => !((match_students_0 == 3) && (match_students_1 == 1))\n",
            "Expression: (true() && true()) => !((match_students_0 == 3) && (match_students_1 == 2))\n",
            "Expression: (false() && false()) => !((match_students_0 == 3) && (match_students_1 == 4))\n",
            "Expression: (true() && false()) => !((match_students_0 == 3) && (match_students_2 == 0))\n",
            "Expression: (false() && false()) => !((match_students_0 == 3) && (match_students_2 == 1))\n",
            "Expression: (true() && false()) => !((match_students_0 == 3) && (match_students_2 == 2))\n",
            "Expression: (false() && false()) => !((match_students_0 == 3) && (match_students_2 == 4))\n",
            "Expression: (true() && true()) => !((match_students_0 == 3) && (match_students_3 == 0))\n",
            "Expression: (false() && false()) => !((match_students_0 == 3) && (match_students_3 == 1))\n",
            "Expression: (true() && false()) => !((match_students_0 == 3) && (match_students_3 == 2))\n",
            "Expression: (false() && false()) => !((match_students_0 == 3) && (match_students_3 == 4))\n",
            "Expression: (true() && false()) => !((match_students_0 == 3) && (match_students_4 == 0))\n",
            "Expression: (false() && true()) => !((match_students_0 == 3) && (match_students_4 == 1))\n",
            "Expression: (true() && false()) => !((match_students_0 == 3) && (match_students_4 == 2))\n",
            "Expression: (false() && false()) => !((match_students_0 == 3) && (match_students_4 == 4))\n",
            "Expression: (true() && false()) => !((match_students_0 == 4) && (match_students_1 == 0))\n",
            "Expression: (true() && true()) => !((match_students_0 == 4) && (match_students_1 == 1))\n",
            "Expression: (true() && true()) => !((match_students_0 == 4) && (match_students_1 == 2))\n",
            "Expression: (true() && true()) => !((match_students_0 == 4) && (match_students_1 == 3))\n",
            "Expression: (true() && false()) => !((match_students_0 == 4) && (match_students_2 == 0))\n",
            "Expression: (true() && false()) => !((match_students_0 == 4) && (match_students_2 == 1))\n",
            "Expression: (true() && false()) => !((match_students_0 == 4) && (match_students_2 == 2))\n",
            "Expression: (true() && true()) => !((match_students_0 == 4) && (match_students_2 == 3))\n",
            "Expression: (true() && true()) => !((match_students_0 == 4) && (match_students_3 == 0))\n",
            "Expression: (true() && false()) => !((match_students_0 == 4) && (match_students_3 == 1))\n",
            "Expression: (true() && false()) => !((match_students_0 == 4) && (match_students_3 == 2))\n",
            "Expression: (true() && true()) => !((match_students_0 == 4) && (match_students_3 == 3))\n",
            "Expression: (true() && false()) => !((match_students_0 == 4) && (match_students_4 == 0))\n",
            "Expression: (true() && true()) => !((match_students_0 == 4) && (match_students_4 == 1))\n",
            "Expression: (true() && false()) => !((match_students_0 == 4) && (match_students_4 == 2))\n",
            "Expression: (true() && true()) => !((match_students_0 == 4) && (match_students_4 == 3))\n",
            "Expression: (false() && false()) => !((match_students_1 == 0) && (match_students_0 == 1))\n",
            "Expression: (true() && false()) => !((match_students_1 == 0) && (match_students_0 == 2))\n",
            "Expression: (true() && false()) => !((match_students_1 == 0) && (match_students_0 == 3))\n",
            "Expression: (false() && true()) => !((match_students_1 == 0) && (match_students_0 == 4))\n",
            "Expression: (false() && false()) => !((match_students_1 == 0) && (match_students_2 == 1))\n",
            "Expression: (true() && false()) => !((match_students_1 == 0) && (match_students_2 == 2))\n",
            "Expression: (true() && true()) => !((match_students_1 == 0) && (match_students_2 == 3))\n",
            "Expression: (false() && false()) => !((match_students_1 == 0) && (match_students_2 == 4))\n",
            "Expression: (false() && false()) => !((match_students_1 == 0) && (match_students_3 == 1))\n",
            "Expression: (true() && false()) => !((match_students_1 == 0) && (match_students_3 == 2))\n",
            "Expression: (true() && true()) => !((match_students_1 == 0) && (match_students_3 == 3))\n",
            "Expression: (false() && true()) => !((match_students_1 == 0) && (match_students_3 == 4))\n",
            "Expression: (false() && true()) => !((match_students_1 == 0) && (match_students_4 == 1))\n",
            "Expression: (true() && false()) => !((match_students_1 == 0) && (match_students_4 == 2))\n",
            "Expression: (true() && true()) => !((match_students_1 == 0) && (match_students_4 == 3))\n",
            "Expression: (false() && true()) => !((match_students_1 == 0) && (match_students_4 == 4))\n",
            "Expression: (true() && true()) => !((match_students_1 == 1) && (match_students_0 == 0))\n",
            "Expression: (true() && false()) => !((match_students_1 == 1) && (match_students_0 == 2))\n",
            "Expression: (true() && false()) => !((match_students_1 == 1) && (match_students_0 == 3))\n",
            "Expression: (true() && true()) => !((match_students_1 == 1) && (match_students_0 == 4))\n",
            "Expression: (true() && true()) => !((match_students_1 == 1) && (match_students_2 == 0))\n",
            "Expression: (true() && false()) => !((match_students_1 == 1) && (match_students_2 == 2))\n",
            "Expression: (true() && true()) => !((match_students_1 == 1) && (match_students_2 == 3))\n",
            "Expression: (true() && false()) => !((match_students_1 == 1) && (match_students_2 == 4))\n",
            "Expression: (true() && true()) => !((match_students_1 == 1) && (match_students_3 == 0))\n",
            "Expression: (true() && false()) => !((match_students_1 == 1) && (match_students_3 == 2))\n",
            "Expression: (true() && true()) => !((match_students_1 == 1) && (match_students_3 == 3))\n",
            "Expression: (true() && true()) => !((match_students_1 == 1) && (match_students_3 == 4))\n",
            "Expression: (true() && true()) => !((match_students_1 == 1) && (match_students_4 == 0))\n",
            "Expression: (true() && false()) => !((match_students_1 == 1) && (match_students_4 == 2))\n",
            "Expression: (true() && true()) => !((match_students_1 == 1) && (match_students_4 == 3))\n",
            "Expression: (true() && true()) => !((match_students_1 == 1) && (match_students_4 == 4))\n",
            "Expression: (false() && true()) => !((match_students_1 == 2) && (match_students_0 == 0))\n",
            "Expression: (false() && false()) => !((match_students_1 == 2) && (match_students_0 == 1))\n",
            "Expression: (true() && false()) => !((match_students_1 == 2) && (match_students_0 == 3))\n",
            "Expression: (false() && true()) => !((match_students_1 == 2) && (match_students_0 == 4))\n",
            "Expression: (false() && true()) => !((match_students_1 == 2) && (match_students_2 == 0))\n",
            "Expression: (false() && false()) => !((match_students_1 == 2) && (match_students_2 == 1))\n",
            "Expression: (true() && true()) => !((match_students_1 == 2) && (match_students_2 == 3))\n",
            "Expression: (false() && false()) => !((match_students_1 == 2) && (match_students_2 == 4))\n",
            "Expression: (false() && true()) => !((match_students_1 == 2) && (match_students_3 == 0))\n",
            "Expression: (false() && false()) => !((match_students_1 == 2) && (match_students_3 == 1))\n",
            "Expression: (true() && true()) => !((match_students_1 == 2) && (match_students_3 == 3))\n",
            "Expression: (false() && true()) => !((match_students_1 == 2) && (match_students_3 == 4))\n",
            "Expression: (false() && true()) => !((match_students_1 == 2) && (match_students_4 == 0))\n",
            "Expression: (false() && true()) => !((match_students_1 == 2) && (match_students_4 == 1))\n",
            "Expression: (true() && true()) => !((match_students_1 == 2) && (match_students_4 == 3))\n",
            "Expression: (false() && true()) => !((match_students_1 == 2) && (match_students_4 == 4))\n",
            "Expression: (false() && true()) => !((match_students_1 == 3) && (match_students_0 == 0))\n",
            "Expression: (false() && false()) => !((match_students_1 == 3) && (match_students_0 == 1))\n",
            "Expression: (false() && false()) => !((match_students_1 == 3) && (match_students_0 == 2))\n",
            "Expression: (false() && true()) => !((match_students_1 == 3) && (match_students_0 == 4))\n",
            "Expression: (false() && true()) => !((match_students_1 == 3) && (match_students_2 == 0))\n",
            "Expression: (false() && false()) => !((match_students_1 == 3) && (match_students_2 == 1))\n",
            "Expression: (false() && false()) => !((match_students_1 == 3) && (match_students_2 == 2))\n",
            "Expression: (false() && false()) => !((match_students_1 == 3) && (match_students_2 == 4))\n",
            "Expression: (false() && true()) => !((match_students_1 == 3) && (match_students_3 == 0))\n",
            "Expression: (false() && false()) => !((match_students_1 == 3) && (match_students_3 == 1))\n",
            "Expression: (false() && false()) => !((match_students_1 == 3) && (match_students_3 == 2))\n",
            "Expression: (false() && true()) => !((match_students_1 == 3) && (match_students_3 == 4))\n",
            "Expression: (false() && true()) => !((match_students_1 == 3) && (match_students_4 == 0))\n",
            "Expression: (false() && true()) => !((match_students_1 == 3) && (match_students_4 == 1))\n",
            "Expression: (false() && false()) => !((match_students_1 == 3) && (match_students_4 == 2))\n",
            "Expression: (false() && true()) => !((match_students_1 == 3) && (match_students_4 == 4))\n",
            "Expression: (true() && true()) => !((match_students_1 == 4) && (match_students_0 == 0))\n",
            "Expression: (false() && false()) => !((match_students_1 == 4) && (match_students_0 == 1))\n",
            "Expression: (true() && false()) => !((match_students_1 == 4) && (match_students_0 == 2))\n",
            "Expression: (true() && false()) => !((match_students_1 == 4) && (match_students_0 == 3))\n",
            "Expression: (true() && true()) => !((match_students_1 == 4) && (match_students_2 == 0))\n",
            "Expression: (false() && false()) => !((match_students_1 == 4) && (match_students_2 == 1))\n",
            "Expression: (true() && false()) => !((match_students_1 == 4) && (match_students_2 == 2))\n",
            "Expression: (true() && true()) => !((match_students_1 == 4) && (match_students_2 == 3))\n",
            "Expression: (true() && true()) => !((match_students_1 == 4) && (match_students_3 == 0))\n",
            "Expression: (false() && false()) => !((match_students_1 == 4) && (match_students_3 == 1))\n",
            "Expression: (true() && false()) => !((match_students_1 == 4) && (match_students_3 == 2))\n",
            "Expression: (true() && true()) => !((match_students_1 == 4) && (match_students_3 == 3))\n",
            "Expression: (true() && true()) => !((match_students_1 == 4) && (match_students_4 == 0))\n",
            "Expression: (false() && true()) => !((match_students_1 == 4) && (match_students_4 == 1))\n",
            "Expression: (true() && false()) => !((match_students_1 == 4) && (match_students_4 == 2))\n",
            "Expression: (true() && true()) => !((match_students_1 == 4) && (match_students_4 == 3))\n",
            "Expression: (false() && true()) => !((match_students_2 == 0) && (match_students_0 == 1))\n",
            "Expression: (false() && true()) => !((match_students_2 == 0) && (match_students_0 == 2))\n",
            "Expression: (false() && false()) => !((match_students_2 == 0) && (match_students_0 == 3))\n",
            "Expression: (false() && true()) => !((match_students_2 == 0) && (match_students_0 == 4))\n",
            "Expression: (false() && true()) => !((match_students_2 == 0) && (match_students_1 == 1))\n",
            "Expression: (false() && true()) => !((match_students_2 == 0) && (match_students_1 == 2))\n",
            "Expression: (false() && false()) => !((match_students_2 == 0) && (match_students_1 == 3))\n",
            "Expression: (false() && true()) => !((match_students_2 == 0) && (match_students_1 == 4))\n",
            "Expression: (false() && true()) => !((match_students_2 == 0) && (match_students_3 == 1))\n",
            "Expression: (false() && true()) => !((match_students_2 == 0) && (match_students_3 == 2))\n",
            "Expression: (false() && true()) => !((match_students_2 == 0) && (match_students_3 == 3))\n",
            "Expression: (false() && true()) => !((match_students_2 == 0) && (match_students_3 == 4))\n",
            "Expression: (false() && true()) => !((match_students_2 == 0) && (match_students_4 == 1))\n",
            "Expression: (false() && false()) => !((match_students_2 == 0) && (match_students_4 == 2))\n",
            "Expression: (false() && false()) => !((match_students_2 == 0) && (match_students_4 == 3))\n",
            "Expression: (false() && true()) => !((match_students_2 == 0) && (match_students_4 == 4))\n",
            "Expression: (true() && true()) => !((match_students_2 == 1) && (match_students_0 == 0))\n",
            "Expression: (false() && true()) => !((match_students_2 == 1) && (match_students_0 == 2))\n",
            "Expression: (true() && false()) => !((match_students_2 == 1) && (match_students_0 == 3))\n",
            "Expression: (false() && true()) => !((match_students_2 == 1) && (match_students_0 == 4))\n",
            "Expression: (true() && false()) => !((match_students_2 == 1) && (match_students_1 == 0))\n",
            "Expression: (false() && true()) => !((match_students_2 == 1) && (match_students_1 == 2))\n",
            "Expression: (true() && false()) => !((match_students_2 == 1) && (match_students_1 == 3))\n",
            "Expression: (false() && true()) => !((match_students_2 == 1) && (match_students_1 == 4))\n",
            "Expression: (true() && true()) => !((match_students_2 == 1) && (match_students_3 == 0))\n",
            "Expression: (false() && true()) => !((match_students_2 == 1) && (match_students_3 == 2))\n",
            "Expression: (true() && true()) => !((match_students_2 == 1) && (match_students_3 == 3))\n",
            "Expression: (false() && true()) => !((match_students_2 == 1) && (match_students_3 == 4))\n",
            "Expression: (true() && true()) => !((match_students_2 == 1) && (match_students_4 == 0))\n",
            "Expression: (false() && false()) => !((match_students_2 == 1) && (match_students_4 == 2))\n",
            "Expression: (true() && false()) => !((match_students_2 == 1) && (match_students_4 == 3))\n",
            "Expression: (false() && true()) => !((match_students_2 == 1) && (match_students_4 == 4))\n",
            "Expression: (true() && true()) => !((match_students_2 == 2) && (match_students_0 == 0))\n",
            "Expression: (true() && true()) => !((match_students_2 == 2) && (match_students_0 == 1))\n",
            "Expression: (true() && false()) => !((match_students_2 == 2) && (match_students_0 == 3))\n",
            "Expression: (true() && true()) => !((match_students_2 == 2) && (match_students_0 == 4))\n",
            "Expression: (true() && false()) => !((match_students_2 == 2) && (match_students_1 == 0))\n",
            "Expression: (true() && true()) => !((match_students_2 == 2) && (match_students_1 == 1))\n",
            "Expression: (true() && false()) => !((match_students_2 == 2) && (match_students_1 == 3))\n",
            "Expression: (true() && true()) => !((match_students_2 == 2) && (match_students_1 == 4))\n",
            "Expression: (true() && true()) => !((match_students_2 == 2) && (match_students_3 == 0))\n",
            "Expression: (true() && true()) => !((match_students_2 == 2) && (match_students_3 == 1))\n",
            "Expression: (true() && true()) => !((match_students_2 == 2) && (match_students_3 == 3))\n",
            "Expression: (true() && true()) => !((match_students_2 == 2) && (match_students_3 == 4))\n",
            "Expression: (true() && true()) => !((match_students_2 == 2) && (match_students_4 == 0))\n",
            "Expression: (true() && true()) => !((match_students_2 == 2) && (match_students_4 == 1))\n",
            "Expression: (true() && false()) => !((match_students_2 == 2) && (match_students_4 == 3))\n",
            "Expression: (true() && true()) => !((match_students_2 == 2) && (match_students_4 == 4))\n",
            "Expression: (true() && true()) => !((match_students_2 == 3) && (match_students_0 == 0))\n",
            "Expression: (false() && true()) => !((match_students_2 == 3) && (match_students_0 == 1))\n",
            "Expression: (false() && true()) => !((match_students_2 == 3) && (match_students_0 == 2))\n",
            "Expression: (false() && true()) => !((match_students_2 == 3) && (match_students_0 == 4))\n",
            "Expression: (true() && false()) => !((match_students_2 == 3) && (match_students_1 == 0))\n",
            "Expression: (false() && true()) => !((match_students_2 == 3) && (match_students_1 == 1))\n",
            "Expression: (false() && true()) => !((match_students_2 == 3) && (match_students_1 == 2))\n",
            "Expression: (false() && true()) => !((match_students_2 == 3) && (match_students_1 == 4))\n",
            "Expression: (true() && true()) => !((match_students_2 == 3) && (match_students_3 == 0))\n",
            "Expression: (false() && true()) => !((match_students_2 == 3) && (match_students_3 == 1))\n",
            "Expression: (false() && true()) => !((match_students_2 == 3) && (match_students_3 == 2))\n",
            "Expression: (false() && true()) => !((match_students_2 == 3) && (match_students_3 == 4))\n",
            "Expression: (true() && true()) => !((match_students_2 == 3) && (match_students_4 == 0))\n",
            "Expression: (false() && true()) => !((match_students_2 == 3) && (match_students_4 == 1))\n",
            "Expression: (false() && false()) => !((match_students_2 == 3) && (match_students_4 == 2))\n",
            "Expression: (false() && true()) => !((match_students_2 == 3) && (match_students_4 == 4))\n",
            "Expression: (true() && true()) => !((match_students_2 == 4) && (match_students_0 == 0))\n",
            "Expression: (true() && true()) => !((match_students_2 == 4) && (match_students_0 == 1))\n",
            "Expression: (false() && true()) => !((match_students_2 == 4) && (match_students_0 == 2))\n",
            "Expression: (true() && false()) => !((match_students_2 == 4) && (match_students_0 == 3))\n",
            "Expression: (true() && false()) => !((match_students_2 == 4) && (match_students_1 == 0))\n",
            "Expression: (true() && true()) => !((match_students_2 == 4) && (match_students_1 == 1))\n",
            "Expression: (false() && true()) => !((match_students_2 == 4) && (match_students_1 == 2))\n",
            "Expression: (true() && false()) => !((match_students_2 == 4) && (match_students_1 == 3))\n",
            "Expression: (true() && true()) => !((match_students_2 == 4) && (match_students_3 == 0))\n",
            "Expression: (true() && true()) => !((match_students_2 == 4) && (match_students_3 == 1))\n",
            "Expression: (false() && true()) => !((match_students_2 == 4) && (match_students_3 == 2))\n",
            "Expression: (true() && true()) => !((match_students_2 == 4) && (match_students_3 == 3))\n",
            "Expression: (true() && true()) => !((match_students_2 == 4) && (match_students_4 == 0))\n",
            "Expression: (true() && true()) => !((match_students_2 == 4) && (match_students_4 == 1))\n",
            "Expression: (false() && false()) => !((match_students_2 == 4) && (match_students_4 == 2))\n",
            "Expression: (true() && false()) => !((match_students_2 == 4) && (match_students_4 == 3))\n",
            "Expression: (false() && true()) => !((match_students_3 == 0) && (match_students_0 == 1))\n",
            "Expression: (false() && true()) => !((match_students_3 == 0) && (match_students_0 == 2))\n",
            "Expression: (false() && false()) => !((match_students_3 == 0) && (match_students_0 == 3))\n",
            "Expression: (false() && true()) => !((match_students_3 == 0) && (match_students_0 == 4))\n",
            "Expression: (false() && true()) => !((match_students_3 == 0) && (match_students_1 == 1))\n",
            "Expression: (false() && true()) => !((match_students_3 == 0) && (match_students_1 == 2))\n",
            "Expression: (false() && false()) => !((match_students_3 == 0) && (match_students_1 == 3))\n",
            "Expression: (false() && false()) => !((match_students_3 == 0) && (match_students_1 == 4))\n",
            "Expression: (false() && false()) => !((match_students_3 == 0) && (match_students_2 == 1))\n",
            "Expression: (false() && false()) => !((match_students_3 == 0) && (match_students_2 == 2))\n",
            "Expression: (false() && false()) => !((match_students_3 == 0) && (match_students_2 == 3))\n",
            "Expression: (false() && false()) => !((match_students_3 == 0) && (match_students_2 == 4))\n",
            "Expression: (false() && true()) => !((match_students_3 == 0) && (match_students_4 == 1))\n",
            "Expression: (false() && false()) => !((match_students_3 == 0) && (match_students_4 == 2))\n",
            "Expression: (false() && false()) => !((match_students_3 == 0) && (match_students_4 == 3))\n",
            "Expression: (false() && false()) => !((match_students_3 == 0) && (match_students_4 == 4))\n",
            "Expression: (true() && false()) => !((match_students_3 == 1) && (match_students_0 == 0))\n",
            "Expression: (true() && true()) => !((match_students_3 == 1) && (match_students_0 == 2))\n",
            "Expression: (true() && false()) => !((match_students_3 == 1) && (match_students_0 == 3))\n",
            "Expression: (false() && true()) => !((match_students_3 == 1) && (match_students_0 == 4))\n",
            "Expression: (true() && false()) => !((match_students_3 == 1) && (match_students_1 == 0))\n",
            "Expression: (true() && true()) => !((match_students_3 == 1) && (match_students_1 == 2))\n",
            "Expression: (true() && false()) => !((match_students_3 == 1) && (match_students_1 == 3))\n",
            "Expression: (false() && false()) => !((match_students_3 == 1) && (match_students_1 == 4))\n",
            "Expression: (true() && false()) => !((match_students_3 == 1) && (match_students_2 == 0))\n",
            "Expression: (true() && false()) => !((match_students_3 == 1) && (match_students_2 == 2))\n",
            "Expression: (true() && false()) => !((match_students_3 == 1) && (match_students_2 == 3))\n",
            "Expression: (false() && false()) => !((match_students_3 == 1) && (match_students_2 == 4))\n",
            "Expression: (true() && false()) => !((match_students_3 == 1) && (match_students_4 == 0))\n",
            "Expression: (true() && false()) => !((match_students_3 == 1) && (match_students_4 == 2))\n",
            "Expression: (true() && false()) => !((match_students_3 == 1) && (match_students_4 == 3))\n",
            "Expression: (false() && false()) => !((match_students_3 == 1) && (match_students_4 == 4))\n",
            "Expression: (true() && false()) => !((match_students_3 == 2) && (match_students_0 == 0))\n",
            "Expression: (false() && true()) => !((match_students_3 == 2) && (match_students_0 == 1))\n",
            "Expression: (false() && false()) => !((match_students_3 == 2) && (match_students_0 == 3))\n",
            "Expression: (false() && true()) => !((match_students_3 == 2) && (match_students_0 == 4))\n",
            "Expression: (true() && false()) => !((match_students_3 == 2) && (match_students_1 == 0))\n",
            "Expression: (false() && true()) => !((match_students_3 == 2) && (match_students_1 == 1))\n",
            "Expression: (false() && false()) => !((match_students_3 == 2) && (match_students_1 == 3))\n",
            "Expression: (false() && false()) => !((match_students_3 == 2) && (match_students_1 == 4))\n",
            "Expression: (true() && false()) => !((match_students_3 == 2) && (match_students_2 == 0))\n",
            "Expression: (false() && false()) => !((match_students_3 == 2) && (match_students_2 == 1))\n",
            "Expression: (false() && false()) => !((match_students_3 == 2) && (match_students_2 == 3))\n",
            "Expression: (false() && false()) => !((match_students_3 == 2) && (match_students_2 == 4))\n",
            "Expression: (true() && false()) => !((match_students_3 == 2) && (match_students_4 == 0))\n",
            "Expression: (false() && true()) => !((match_students_3 == 2) && (match_students_4 == 1))\n",
            "Expression: (false() && false()) => !((match_students_3 == 2) && (match_students_4 == 3))\n",
            "Expression: (false() && false()) => !((match_students_3 == 2) && (match_students_4 == 4))\n",
            "Expression: (true() && false()) => !((match_students_3 == 3) && (match_students_0 == 0))\n",
            "Expression: (false() && true()) => !((match_students_3 == 3) && (match_students_0 == 1))\n",
            "Expression: (true() && true()) => !((match_students_3 == 3) && (match_students_0 == 2))\n",
            "Expression: (false() && true()) => !((match_students_3 == 3) && (match_students_0 == 4))\n",
            "Expression: (true() && false()) => !((match_students_3 == 3) && (match_students_1 == 0))\n",
            "Expression: (false() && true()) => !((match_students_3 == 3) && (match_students_1 == 1))\n",
            "Expression: (true() && true()) => !((match_students_3 == 3) && (match_students_1 == 2))\n",
            "Expression: (false() && false()) => !((match_students_3 == 3) && (match_students_1 == 4))\n",
            "Expression: (true() && false()) => !((match_students_3 == 3) && (match_students_2 == 0))\n",
            "Expression: (false() && false()) => !((match_students_3 == 3) && (match_students_2 == 1))\n",
            "Expression: (true() && false()) => !((match_students_3 == 3) && (match_students_2 == 2))\n",
            "Expression: (false() && false()) => !((match_students_3 == 3) && (match_students_2 == 4))\n",
            "Expression: (true() && false()) => !((match_students_3 == 3) && (match_students_4 == 0))\n",
            "Expression: (false() && true()) => !((match_students_3 == 3) && (match_students_4 == 1))\n",
            "Expression: (true() && false()) => !((match_students_3 == 3) && (match_students_4 == 2))\n",
            "Expression: (false() && false()) => !((match_students_3 == 3) && (match_students_4 == 4))\n",
            "Expression: (true() && false()) => !((match_students_3 == 4) && (match_students_0 == 0))\n",
            "Expression: (true() && true()) => !((match_students_3 == 4) && (match_students_0 == 1))\n",
            "Expression: (true() && true()) => !((match_students_3 == 4) && (match_students_0 == 2))\n",
            "Expression: (true() && false()) => !((match_students_3 == 4) && (match_students_0 == 3))\n",
            "Expression: (true() && false()) => !((match_students_3 == 4) && (match_students_1 == 0))\n",
            "Expression: (true() && true()) => !((match_students_3 == 4) && (match_students_1 == 1))\n",
            "Expression: (true() && true()) => !((match_students_3 == 4) && (match_students_1 == 2))\n",
            "Expression: (true() && false()) => !((match_students_3 == 4) && (match_students_1 == 3))\n",
            "Expression: (true() && false()) => !((match_students_3 == 4) && (match_students_2 == 0))\n",
            "Expression: (true() && false()) => !((match_students_3 == 4) && (match_students_2 == 1))\n",
            "Expression: (true() && false()) => !((match_students_3 == 4) && (match_students_2 == 2))\n",
            "Expression: (true() && false()) => !((match_students_3 == 4) && (match_students_2 == 3))\n",
            "Expression: (true() && false()) => !((match_students_3 == 4) && (match_students_4 == 0))\n",
            "Expression: (true() && true()) => !((match_students_3 == 4) && (match_students_4 == 1))\n",
            "Expression: (true() && false()) => !((match_students_3 == 4) && (match_students_4 == 2))\n",
            "Expression: (true() && false()) => !((match_students_3 == 4) && (match_students_4 == 3))\n",
            "Expression: (false() && false()) => !((match_students_4 == 0) && (match_students_0 == 1))\n",
            "Expression: (false() && true()) => !((match_students_4 == 0) && (match_students_0 == 2))\n",
            "Expression: (true() && false()) => !((match_students_4 == 0) && (match_students_0 == 3))\n",
            "Expression: (true() && true()) => !((match_students_4 == 0) && (match_students_0 == 4))\n",
            "Expression: (false() && false()) => !((match_students_4 == 0) && (match_students_1 == 1))\n",
            "Expression: (false() && true()) => !((match_students_4 == 0) && (match_students_1 == 2))\n",
            "Expression: (true() && false()) => !((match_students_4 == 0) && (match_students_1 == 3))\n",
            "Expression: (true() && false()) => !((match_students_4 == 0) && (match_students_1 == 4))\n",
            "Expression: (false() && false()) => !((match_students_4 == 0) && (match_students_2 == 1))\n",
            "Expression: (false() && true()) => !((match_students_4 == 0) && (match_students_2 == 2))\n",
            "Expression: (true() && true()) => !((match_students_4 == 0) && (match_students_2 == 3))\n",
            "Expression: (true() && false()) => !((match_students_4 == 0) && (match_students_2 == 4))\n",
            "Expression: (false() && false()) => !((match_students_4 == 0) && (match_students_3 == 1))\n",
            "Expression: (false() && true()) => !((match_students_4 == 0) && (match_students_3 == 2))\n",
            "Expression: (true() && true()) => !((match_students_4 == 0) && (match_students_3 == 3))\n",
            "Expression: (true() && true()) => !((match_students_4 == 0) && (match_students_3 == 4))\n",
            "Expression: (true() && true()) => !((match_students_4 == 1) && (match_students_0 == 0))\n",
            "Expression: (true() && true()) => !((match_students_4 == 1) && (match_students_0 == 2))\n",
            "Expression: (true() && false()) => !((match_students_4 == 1) && (match_students_0 == 3))\n",
            "Expression: (true() && true()) => !((match_students_4 == 1) && (match_students_0 == 4))\n",
            "Expression: (true() && false()) => !((match_students_4 == 1) && (match_students_1 == 0))\n",
            "Expression: (true() && true()) => !((match_students_4 == 1) && (match_students_1 == 2))\n",
            "Expression: (true() && false()) => !((match_students_4 == 1) && (match_students_1 == 3))\n",
            "Expression: (true() && false()) => !((match_students_4 == 1) && (match_students_1 == 4))\n",
            "Expression: (true() && false()) => !((match_students_4 == 1) && (match_students_2 == 0))\n",
            "Expression: (true() && true()) => !((match_students_4 == 1) && (match_students_2 == 2))\n",
            "Expression: (true() && true()) => !((match_students_4 == 1) && (match_students_2 == 3))\n",
            "Expression: (true() && false()) => !((match_students_4 == 1) && (match_students_2 == 4))\n",
            "Expression: (true() && true()) => !((match_students_4 == 1) && (match_students_3 == 0))\n",
            "Expression: (true() && true()) => !((match_students_4 == 1) && (match_students_3 == 2))\n",
            "Expression: (true() && true()) => !((match_students_4 == 1) && (match_students_3 == 3))\n",
            "Expression: (true() && true()) => !((match_students_4 == 1) && (match_students_3 == 4))\n",
            "Expression: (true() && true()) => !((match_students_4 == 2) && (match_students_0 == 0))\n",
            "Expression: (false() && false()) => !((match_students_4 == 2) && (match_students_0 == 1))\n",
            "Expression: (true() && false()) => !((match_students_4 == 2) && (match_students_0 == 3))\n",
            "Expression: (true() && true()) => !((match_students_4 == 2) && (match_students_0 == 4))\n",
            "Expression: (true() && false()) => !((match_students_4 == 2) && (match_students_1 == 0))\n",
            "Expression: (false() && false()) => !((match_students_4 == 2) && (match_students_1 == 1))\n",
            "Expression: (true() && false()) => !((match_students_4 == 2) && (match_students_1 == 3))\n",
            "Expression: (true() && false()) => !((match_students_4 == 2) && (match_students_1 == 4))\n",
            "Expression: (true() && false()) => !((match_students_4 == 2) && (match_students_2 == 0))\n",
            "Expression: (false() && false()) => !((match_students_4 == 2) && (match_students_2 == 1))\n",
            "Expression: (true() && true()) => !((match_students_4 == 2) && (match_students_2 == 3))\n",
            "Expression: (true() && false()) => !((match_students_4 == 2) && (match_students_2 == 4))\n",
            "Expression: (true() && true()) => !((match_students_4 == 2) && (match_students_3 == 0))\n",
            "Expression: (false() && false()) => !((match_students_4 == 2) && (match_students_3 == 1))\n",
            "Expression: (true() && true()) => !((match_students_4 == 2) && (match_students_3 == 3))\n",
            "Expression: (true() && true()) => !((match_students_4 == 2) && (match_students_3 == 4))\n",
            "Expression: (false() && true()) => !((match_students_4 == 3) && (match_students_0 == 0))\n",
            "Expression: (false() && false()) => !((match_students_4 == 3) && (match_students_0 == 1))\n",
            "Expression: (false() && true()) => !((match_students_4 == 3) && (match_students_0 == 2))\n",
            "Expression: (true() && true()) => !((match_students_4 == 3) && (match_students_0 == 4))\n",
            "Expression: (false() && false()) => !((match_students_4 == 3) && (match_students_1 == 0))\n",
            "Expression: (false() && false()) => !((match_students_4 == 3) && (match_students_1 == 1))\n",
            "Expression: (false() && true()) => !((match_students_4 == 3) && (match_students_1 == 2))\n",
            "Expression: (true() && false()) => !((match_students_4 == 3) && (match_students_1 == 4))\n",
            "Expression: (false() && false()) => !((match_students_4 == 3) && (match_students_2 == 0))\n",
            "Expression: (false() && false()) => !((match_students_4 == 3) && (match_students_2 == 1))\n",
            "Expression: (false() && true()) => !((match_students_4 == 3) && (match_students_2 == 2))\n",
            "Expression: (true() && false()) => !((match_students_4 == 3) && (match_students_2 == 4))\n",
            "Expression: (false() && true()) => !((match_students_4 == 3) && (match_students_3 == 0))\n",
            "Expression: (false() && false()) => !((match_students_4 == 3) && (match_students_3 == 1))\n",
            "Expression: (false() && true()) => !((match_students_4 == 3) && (match_students_3 == 2))\n",
            "Expression: (true() && true()) => !((match_students_4 == 3) && (match_students_3 == 4))\n",
            "Expression: (false() && true()) => !((match_students_4 == 4) && (match_students_0 == 0))\n",
            "Expression: (false() && false()) => !((match_students_4 == 4) && (match_students_0 == 1))\n",
            "Expression: (false() && true()) => !((match_students_4 == 4) && (match_students_0 == 2))\n",
            "Expression: (false() && false()) => !((match_students_4 == 4) && (match_students_0 == 3))\n",
            "Expression: (false() && false()) => !((match_students_4 == 4) && (match_students_1 == 0))\n",
            "Expression: (false() && false()) => !((match_students_4 == 4) && (match_students_1 == 1))\n",
            "Expression: (false() && true()) => !((match_students_4 == 4) && (match_students_1 == 2))\n",
            "Expression: (false() && false()) => !((match_students_4 == 4) && (match_students_1 == 3))\n",
            "Expression: (false() && false()) => !((match_students_4 == 4) && (match_students_2 == 0))\n",
            "Expression: (false() && false()) => !((match_students_4 == 4) && (match_students_2 == 1))\n",
            "Expression: (false() && true()) => !((match_students_4 == 4) && (match_students_2 == 2))\n",
            "Expression: (false() && true()) => !((match_students_4 == 4) && (match_students_2 == 3))\n",
            "Expression: (false() && true()) => !((match_students_4 == 4) && (match_students_3 == 0))\n",
            "Expression: (false() && false()) => !((match_students_4 == 4) && (match_students_3 == 1))\n",
            "Expression: (false() && true()) => !((match_students_4 == 4) && (match_students_3 == 2))\n",
            "Expression: (false() && true()) => !((match_students_4 == 4) && (match_students_3 == 3))\n"
          ]
        }
      ],
      "source": [
        "students_preferences, companies_preferences = generate_random_instance(10)\n",
        "model = stable_interview (5, students_preferences, companies_preferences)\n",
        "all_expressions = model.get_all_expressions()\n",
        "for expr, loc in all_expressions:\n",
        "    print(\"Expression:\", expr)\n",
        ""
      ]
    },
    {
      "cell_type": "code",
      "execution_count": null,
      "id": "1829c991",
      "metadata": {
        "id": "1829c991",
        "outputId": "d0a2d94b-a3b1-4c40-d076-31cc0ea3ea6f"
      },
      "outputs": [
        {
          "name": "stdout",
          "output_type": "stream",
          "text": [
            "Solution found:\n",
            "Student 0 is matched with Company 10\n",
            "Student 1 is matched with Company 4\n",
            "Student 2 is matched with Company 18\n",
            "Student 3 is matched with Company 8\n",
            "Student 4 is matched with Company 9\n",
            "Student 5 is matched with Company 12\n",
            "Student 6 is matched with Company 2\n",
            "Student 7 is matched with Company 17\n",
            "Student 8 is matched with Company 5\n",
            "Student 9 is matched with Company 19\n",
            "Student 10 is matched with Company 1\n",
            "Student 11 is matched with Company 6\n",
            "Student 12 is matched with Company 14\n",
            "Student 13 is matched with Company 15\n",
            "Student 14 is matched with Company 0\n",
            "Student 15 is matched with Company 11\n",
            "Student 16 is matched with Company 13\n",
            "Student 17 is matched with Company 16\n",
            "Student 18 is matched with Company 7\n",
            "Student 19 is matched with Company 3\n"
          ]
        }
      ],
      "source": [
        "# Solve the model\n",
        "n=20\n",
        "myparams = CpoParameters(TimeLimit=20,\n",
        "                         LogVerbosity=\"Quiet\",\n",
        "                         SearchType='DepthFirst',\n",
        "                         Presolve='Off',\n",
        "                         Workers=1,\n",
        "                         RandomSeed=2,\n",
        "                         SolutionLimit=1)  # Set the solver to stop after finding the first solution____________\n",
        "students_preferences, companies_preferences = generate_random_instance(n)\n",
        "model = stable_interview (n, students_preferences, companies_preferences)\n",
        "solution = model.solve(params=myparams)\n",
        "print(\"Solution found:\")\n",
        "for i in range(n):\n",
        "    matched_company = solution.get_value(\"match_students_{}\".format(i))\n",
        "    print(f\"Student {i} is matched with Company {matched_company}\")\n"
      ]
    },
    {
      "cell_type": "markdown",
      "id": "e7de173f",
      "metadata": {
        "id": "e7de173f"
      },
      "source": [
        "How many decisions are made ?"
      ]
    },
    {
      "cell_type": "code",
      "execution_count": null,
      "id": "5eeb9932",
      "metadata": {
        "id": "5eeb9932",
        "outputId": "63a5598f-b9d5-4d48-83fd-eb080d2b802d"
      },
      "outputs": [
        {
          "data": {
            "text/plain": [
              "1080"
            ]
          },
          "execution_count": 10,
          "metadata": {},
          "output_type": "execute_result"
        }
      ],
      "source": [
        "solution.get_solver_infos()['NumberOfBranches']"
      ]
    },
    {
      "cell_type": "markdown",
      "id": "dcdc24a7",
      "metadata": {
        "id": "dcdc24a7"
      },
      "source": [
        "How many failures are made ?"
      ]
    },
    {
      "cell_type": "code",
      "execution_count": null,
      "id": "9b0767e5",
      "metadata": {
        "id": "9b0767e5",
        "outputId": "e6f0c1a2-1af4-46be-ef21-c87138c4a1c4"
      },
      "outputs": [
        {
          "data": {
            "text/plain": [
              "536"
            ]
          },
          "execution_count": 11,
          "metadata": {},
          "output_type": "execute_result"
        }
      ],
      "source": [
        "solution.get_solver_infos()['NumberOfFails']"
      ]
    },
    {
      "cell_type": "markdown",
      "id": "ff193ec2",
      "metadata": {
        "id": "ff193ec2"
      },
      "source": [
        "What is the runtime ?"
      ]
    },
    {
      "cell_type": "code",
      "execution_count": null,
      "id": "69173f91",
      "metadata": {
        "id": "69173f91",
        "outputId": "a1a43f41-9f84-47f4-e1e6-4ab9f9110beb"
      },
      "outputs": [
        {
          "data": {
            "text/plain": [
              "1.83"
            ]
          },
          "execution_count": 12,
          "metadata": {},
          "output_type": "execute_result"
        }
      ],
      "source": [
        "solution.get_solver_infos()['TotalTime']"
      ]
    },
    {
      "cell_type": "markdown",
      "id": "8680b0b8",
      "metadata": {
        "id": "8680b0b8"
      },
      "source": [
        "# Without changing your model, did you use an implied constraint? if yes, which one ? If no, can you find one (again without modifying the model) ?\n",
        "The implies constraint in this problem is  that the matching much has no unhappy pair."
      ]
    },
    {
      "cell_type": "markdown",
      "id": "d3bd4554",
      "metadata": {
        "id": "d3bd4554"
      },
      "source": [
        "We want to setup a user-friendly solution printer. Let $CompanyOf[s]$ be the company to which student $s$ is matched. Similarly, we denote by $StudentOf[c]$ the student assigned to company $c$.\n"
      ]
    },
    {
      "cell_type": "markdown",
      "id": "8acc9fe6",
      "metadata": {
        "id": "8acc9fe6"
      },
      "source": [
        "Solve again the problem for n= 10, construct the lists $CompanyOf$ and  $StudentOf$, then print them."
      ]
    },
    {
      "cell_type": "code",
      "execution_count": null,
      "id": "b39f497e",
      "metadata": {
        "id": "b39f497e",
        "outputId": "77e8fcfd-ad96-4e60-ea69-fd40fa3dfb39"
      },
      "outputs": [
        {
          "name": "stdout",
          "output_type": "stream",
          "text": [
            "Solution found:\n",
            "Student 0 is matched with Company 9\n",
            "Student 1 is matched with Company 5\n",
            "Student 2 is matched with Company 11\n",
            "Student 3 is matched with Company 14\n",
            "Student 4 is matched with Company 13\n",
            "Student 5 is matched with Company 7\n",
            "Student 6 is matched with Company 1\n",
            "Student 7 is matched with Company 12\n",
            "Student 8 is matched with Company 0\n",
            "Student 9 is matched with Company 4\n",
            "Student 10 is matched with Company 6\n",
            "Student 11 is matched with Company 8\n",
            "Student 12 is matched with Company 3\n",
            "Student 13 is matched with Company 2\n",
            "Student 14 is matched with Company 10\n"
          ]
        }
      ],
      "source": [
        "n=15\n",
        "students_preferences, companies_preferences = generate_random_instance(n)\n",
        "model = stable_interview (n, students_preferences, companies_preferences)\n",
        "solution = model.solve(params=myparams)\n",
        "if solution:\n",
        "    print(\"Solution found:\")\n",
        "    for i in range(n):\n",
        "        matched_company = solution.get_value(\"match_students_{}\".format(i))\n",
        "        print(f\"Student {i} is matched with Company {matched_company}\")\n",
        "else:\n",
        "    print('Soluiton not found')"
      ]
    },
    {
      "cell_type": "markdown",
      "id": "020cdad8",
      "metadata": {
        "id": "020cdad8"
      },
      "source": [
        "We want to automate the experiments. Complete the following function that takes as input n, generates a new random instance, solve it, then returns the search status, the number of decisions, the number of failures, and the runtime"
      ]
    },
    {
      "cell_type": "code",
      "execution_count": null,
      "id": "aad8f278",
      "metadata": {
        "id": "aad8f278"
      },
      "outputs": [],
      "source": [
        "from docplex.cp.model import  CpoParameters\n",
        "def run_decision_version(n) :\n",
        "    students_preferences, companies_preferences = generate_random_instance(n)\n",
        "    model = stable_interview (n, students_preferences, companies_preferences)\n",
        "    #context.solver.trace_log = False\n",
        "    solution = model.solve(params=myparams)\n",
        "    status = solution\n",
        "    nb_decisions = solution.get_solver_infos()['NumberOfBranches']\n",
        "    nb_failures = solution.get_solver_infos()['NumberOfFails']\n",
        "    runtime =solution.get_solver_infos()['TotalTime']\n",
        "\n",
        "    return status, nb_decisions, nb_failures, runtime"
      ]
    },
    {
      "cell_type": "markdown",
      "id": "53a92054",
      "metadata": {
        "id": "53a92054"
      },
      "source": [
        "Test your function with a random instance. Print the status, the number of decisions, the number of failures, and the runtime"
      ]
    },
    {
      "cell_type": "code",
      "execution_count": null,
      "id": "4a17a9f6",
      "metadata": {
        "id": "4a17a9f6",
        "outputId": "9de44130-20ac-4546-c935-531331dbf0c9"
      },
      "outputs": [
        {
          "name": "stdout",
          "output_type": "stream",
          "text": [
            "Status: Solution found\n",
            "Number of dicisions = 4167\n",
            "Number of failures = 2075\n",
            "Run times = 17.83\n"
          ]
        }
      ],
      "source": [
        "status, nb_decisions, nb_failures, runtime = run_decision_version(30)\n",
        "if status :\n",
        "    print(\"Status: Solution found\")\n",
        "    print(f\"Number of dicisions = {nb_decisions}\")\n",
        "    print(f\"Number of failures = {nb_failures}\")\n",
        "    print(f\"Run times = {runtime}\")\n",
        "else:\n",
        "    print(\"No solution found\")\n",
        ""
      ]
    },
    {
      "cell_type": "markdown",
      "id": "18bf93b4",
      "metadata": {
        "id": "18bf93b4"
      },
      "source": [
        "Test the run function with four different sizes\n"
      ]
    },
    {
      "cell_type": "code",
      "execution_count": null,
      "id": "09296900",
      "metadata": {
        "id": "09296900",
        "outputId": "a1258d14-a05b-4d21-806d-19745a072be9"
      },
      "outputs": [
        {
          "name": "stdout",
          "output_type": "stream",
          "text": [
            "Status: Solution found\n",
            "Number of dicisions = 7\n",
            "Number of failures = 2\n",
            "Run times = 0.01\n",
            "______________________________________________________\n",
            "Status: Solution found\n",
            "Number of dicisions = 71\n",
            "Number of failures = 34\n",
            "Run times = 0.07\n",
            "______________________________________________________\n",
            "Status: Solution found\n",
            "Number of dicisions = 253\n",
            "Number of failures = 122\n",
            "Run times = 0.42\n",
            "______________________________________________________\n",
            "Status: Solution found\n",
            "Number of dicisions = 1635\n",
            "Number of failures = 811\n",
            "Run times = 2\n",
            "______________________________________________________\n"
          ]
        }
      ],
      "source": [
        "sizes = [5,10,15,20]\n",
        "for size in sizes:\n",
        "    status, nb_decisions, nb_failures, runtime = run_decision_version(size)\n",
        "    if status :\n",
        "        print(\"Status: Solution found\")\n",
        "        print(f\"Number of dicisions = {nb_decisions}\")\n",
        "        print(f\"Number of failures = {nb_failures}\")\n",
        "        print(f\"Run times = {runtime}\")\n",
        "        print(\"______________________________________________________\")\n",
        "    else:\n",
        "        print(\"No solution found\")\n",
        ""
      ]
    },
    {
      "cell_type": "markdown",
      "id": "ade4e472",
      "metadata": {
        "id": "ade4e472"
      },
      "source": [
        "Find 10 different numbers $n_1 > n_2, \\ldots > n_{10}$ such that the solver needs between $10$s to $20$s to find a solution for each size"
      ]
    },
    {
      "cell_type": "markdown",
      "id": "43f329cd",
      "metadata": {
        "id": "43f329cd"
      },
      "source": [
        "Choose two completely different search strategies, then run them on a random instance"
      ]
    },
    {
      "cell_type": "code",
      "execution_count": null,
      "id": "77de6864",
      "metadata": {
        "id": "77de6864",
        "outputId": "1e1e8cfc-d4e6-4b43-9946-13ff850c1c1f"
      },
      "outputs": [
        {
          "name": "stdout",
          "output_type": "stream",
          "text": [
            "Problem size = 15, Run time = 0.44s\n",
            "Problem size = 16, Run time = 0.57s\n",
            "Problem size = 17, Run time = 0.77s\n",
            "Problem size = 18, Run time = 0.91s\n",
            "Problem size = 19, Run time = 1.22s\n",
            "Problem size = 20, Run time = 1.5s\n",
            "Problem size = 21, Run time = 1.72s\n",
            "Problem size = 22, Run time = 2.55s\n",
            "Problem size = 23, Run time = 2.72s\n",
            "Problem size = 24, Run time = 9.64s\n",
            "Problem size = 25, Run time = 15.59s\n",
            "Problem size = 26, Run time = 20.03s\n",
            "Run time = 20.03\n",
            "Found problem sizes: [25]\n"
          ]
        }
      ],
      "source": [
        "n = 15\n",
        "found_sizes = []\n",
        "while len(found_sizes) < 10:\n",
        "    status, nb_decisions, nb_failures, runtime = run_decision_version(n)\n",
        "    print(f\"Problem size = {n}, Run time = {runtime}s\")\n",
        "    if 10 <= runtime <= 20:\n",
        "        #print(f\"Problem size = {n}, Run time = {runtime}s\")\n",
        "        found_sizes.append(n)\n",
        "\n",
        "    n += 1\n",
        "\n",
        "\n",
        "    if runtime > 20:\n",
        "        print(f\"Run time = {runtime}\")\n",
        "        break\n",
        "\n",
        "print(\"Found problem sizes:\", found_sizes)\n"
      ]
    },
    {
      "cell_type": "markdown",
      "id": "2a311fbc",
      "metadata": {
        "id": "2a311fbc"
      },
      "source": [
        "Run an experimental study to campare the two search strategies in terms of the number of decisions and runtime on 20 instances of different sizes of your choice. We expect to have a visual comparision in the form of plots"
      ]
    },
    {
      "cell_type": "code",
      "execution_count": null,
      "id": "65047e7b",
      "metadata": {
        "id": "65047e7b"
      },
      "outputs": [],
      "source": [
        "\n",
        "def run_search_strategies(n, search_strategy):\n",
        "\n",
        "    students_preferences, companies_preferences = generate_random_instance(n)\n",
        "    model = stable_interview(n, students_preferences, companies_preferences)\n",
        "\n",
        "\n",
        "    myparams = CpoParameters(TimeLimit=20,\n",
        "                             LogVerbosity=\"Quiet\",\n",
        "                             SearchType=search_strategy,\n",
        "                             Presolve='Off',\n",
        "                             Workers=1,\n",
        "                             RandomSeed=2)\n",
        "\n",
        "\n",
        "    solution = model.solve(params=myparams)\n",
        "\n",
        "\n",
        "    if solution:\n",
        "        nb_decisions = solution.get_solver_infos()['NumberOfBranches']\n",
        "        nb_failures = solution.get_solver_infos()['NumberOfFails']\n",
        "        runtime = solution.get_solver_infos()['TotalTime']\n",
        "        return n, nb_decisions, runtime\n",
        "    else:\n",
        "        return n, None, None"
      ]
    },
    {
      "cell_type": "code",
      "execution_count": null,
      "id": "6e594cd4",
      "metadata": {
        "id": "6e594cd4"
      },
      "outputs": [],
      "source": [
        "problem_sizes = list(range(5, 20))\n",
        "strategies = ['DepthFirst', 'Neighborhood', 'MultiPoint']\n",
        "results = []\n",
        "\n",
        "for strategy in strategies:\n",
        "    for size in problem_sizes:\n",
        "        size, decisions, runtime = run_search_strategies(size,strategy)\n",
        "        results.append((strategy, size, decisions, runtime))"
      ]
    },
    {
      "cell_type": "code",
      "execution_count": null,
      "id": "e888a1ae",
      "metadata": {
        "id": "e888a1ae",
        "outputId": "8eabc5b5-d242-4c9c-8505-9ee9fe2cf75d"
      },
      "outputs": [
        {
          "data": {
            "image/png": "[encoded data removed]",
            "text/plain": [
              "<Figure size 1000x500 with 2 Axes>"
            ]
          },
          "metadata": {},
          "output_type": "display_data"
        }
      ],
      "source": [
        "import matplotlib.pyplot as plt\n",
        "\n",
        "# Splitting results by strategy\n",
        "depthfirst_results = [result for result in results if result[0] == 'DepthFirst']\n",
        "neighborhood_results = [result for result in results if result[0] == 'Neighborhood']\n",
        "MultiPoint_results = [result for result in results if result[0] == 'MultiPoint']\n",
        "# Plotting\n",
        "plt.figure(figsize=(10, 5))\n",
        "\n",
        "# Number of Decisions\n",
        "plt.subplot(1, 2, 1)\n",
        "plt.plot([r[1] for r in depthfirst_results], [r[2] for r in depthfirst_results], label='DepthFirst - Decisions')\n",
        "plt.plot([r[1] for r in neighborhood_results], [r[2] for r in neighborhood_results], label='Neighborhood - Decisions')\n",
        "plt.plot([r[1] for r in MultiPoint_results], [r[2] for r in MultiPoint_results], label='MultiPoint - Decisions')\n",
        "plt.xlabel('Problem Size')\n",
        "plt.ylabel('Number of Decisions')\n",
        "plt.legend()\n",
        "\n",
        "# Runtime\n",
        "plt.subplot(1, 2, 2)\n",
        "plt.plot([r[1] for r in depthfirst_results], [r[3] for r in depthfirst_results], label='DepthFirst - Runtime')\n",
        "plt.plot([r[1] for r in neighborhood_results], [r[3] for r in neighborhood_results], label='Neighborhood - Runtime')\n",
        "plt.plot([r[1] for r in MultiPoint_results], [r[3] for r in MultiPoint_results], label='MultiPoint - Runtime')\n",
        "plt.xlabel('Problem Size')\n",
        "plt.ylabel('Runtime (s)')\n",
        "plt.legend()\n",
        "\n",
        "plt.tight_layout()\n",
        "plt.show()"
      ]
    },
    {
      "cell_type": "markdown",
      "id": "6ee0dc6e",
      "metadata": {
        "id": "6ee0dc6e"
      },
      "source": [
        "We want to give more previlage to students. Let $M$ be a solution and let $Index[s]$ be the index of $M[s]$ in the preference list of $s$. We want to minimize the maximum value of $\\{Index[1], \\ldots Index[N] \\}$. Complete the following function to model for this optimisation problem."
      ]
    },
    {
      "cell_type": "code",
      "execution_count": null,
      "id": "9e368a13",
      "metadata": {
        "id": "9e368a13"
      },
      "outputs": [],
      "source": [
        "def optimal_stable_interview (n, students_preferences, companies_preferences):\n",
        "    model = CpoModel(name='Student-Company Matching Problem')\n",
        "\n",
        "    # Variables: Matching of students to companies and vice versa\n",
        "    match_students = [model.integer_var(min=0, max=n-1, name=f\"match_students_{i}\") for i in range(n)]\n",
        "    match_companies = [model.integer_var(min=0, max=n-1, name=f\"match_companies_{j}\") for j in range(n)]\n",
        "    max_index = model.integer_var(min=0, max=n-1, name=\"max_index\")\n",
        "    # Ensuring mutual matching\n",
        "    for i in range(n):\n",
        "        for j in range(n):\n",
        "            model.add(model.if_then(match_students[i] == j, match_companies[j] == i))\n",
        "    # Stable condition\n",
        "    for s1 in range(n):  # For each student\n",
        "        for c1 in range(n):  # For each company\n",
        "            for s2 in range(n):  # Compare with every other student\n",
        "                for c2 in range(n):  # And every other company\n",
        "                    if s1 != s2 and c1 != c2:\n",
        "                        pref_s1_c2 = students_preferences[s1].index(c2)  # s1's preference rank for c2\n",
        "                        pref_s1_c1 = students_preferences[s1].index(c1)  # s1's preference rank for c1\n",
        "                        pref_c2_s1 = companies_preferences[c2].index(s1)  # c2's preference rank for s1\n",
        "                        pref_c2_s2 = companies_preferences[c2].index(s2)  # c2's preference rank for s2\n",
        "                        condition = model.logical_and(pref_s1_c2 < pref_s1_c1, pref_c2_s1 < pref_c2_s2)\n",
        "\n",
        "                        model.add(model.if_then(condition,\n",
        "                                                model.logical_not(model.logical_and(match_students[s1] == c1,\n",
        "                                                                                    match_students[s2] == c2))))\n",
        "    for s in range(n):\n",
        "        model.add(max_index >= model.element(students_preferences[s], match_students[s]))\n",
        "\n",
        "    # Set the objective to minimize max_index\n",
        "    model.minimize(max_index)\n",
        "    return model"
      ]
    },
    {
      "cell_type": "markdown",
      "id": "475ad1e9",
      "metadata": {
        "id": "475ad1e9"
      },
      "source": [
        "Test your model"
      ]
    },
    {
      "cell_type": "code",
      "execution_count": null,
      "id": "4834bcbb",
      "metadata": {
        "id": "4834bcbb",
        "outputId": "5ddf49a3-2400-4813-98bf-91fd504d4992"
      },
      "outputs": [
        {
          "name": "stdout",
          "output_type": "stream",
          "text": [
            "Status: Solution found\n",
            "Number of dicisions = 9502\n",
            "Number of failures = 4748\n",
            "Run times = 4.43\n",
            "Student 0 is matched with Company 11\n",
            "Student 1 is matched with Company 14\n",
            "Student 2 is matched with Company 9\n",
            "Student 3 is matched with Company 5\n",
            "Student 4 is matched with Company 1\n",
            "Student 5 is matched with Company 7\n",
            "Student 6 is matched with Company 0\n",
            "Student 7 is matched with Company 6\n",
            "Student 8 is matched with Company 3\n",
            "Student 9 is matched with Company 13\n",
            "Student 10 is matched with Company 12\n",
            "Student 11 is matched with Company 2\n",
            "Student 12 is matched with Company 10\n",
            "Student 13 is matched with Company 8\n",
            "Student 14 is matched with Company 4\n",
            "Minimun of max index 11\n",
            "______________________________________________________\n"
          ]
        }
      ],
      "source": [
        "n=15\n",
        "students_preferences, companies_preferences = generate_random_instance(n)\n",
        "model = optimal_stable_interview (n, students_preferences, companies_preferences)\n",
        "\n",
        "solution = model.solve(params=myparams)\n",
        "if solution :\n",
        "        print(\"Status: Solution found\")\n",
        "        print(f\"Number of dicisions = {nb_decisions}\")\n",
        "        print(f\"Number of failures = {nb_failures}\")\n",
        "        print(f\"Run times = {runtime}\")\n",
        "        for i in range(n):\n",
        "            matched_company = solution.get_value(\"match_students_{}\".format(i))\n",
        "            print(f\"Student {i} is matched with Company {matched_company}\")\n",
        "            optimal = solution.get_value(\"max_index\")\n",
        "        print(f\"Minimun of max index {optimal}\")\n",
        "        print(\"______________________________________________________\")\n",
        "else:\n",
        "        print(\"No solution found\")\n",
        "\n"
      ]
    }
  ],
  "metadata": {
    "kernelspec": {
      "display_name": "Python 3 (ipykernel)",
      "language": "python",
      "name": "python3"
    },
    "language_info": {
      "codemirror_mode": {
        "name": "ipython",
        "version": 3
      },
      "file_extension": ".py",
      "mimetype": "text/x-python",
      "name": "python",
      "nbconvert_exporter": "python",
      "pygments_lexer": "ipython3",
      "version": "3.11.3"
    },
    "colab": {
      "provenance": []
    }
  },
  "nbformat": 4,
  "nbformat_minor": 5
}